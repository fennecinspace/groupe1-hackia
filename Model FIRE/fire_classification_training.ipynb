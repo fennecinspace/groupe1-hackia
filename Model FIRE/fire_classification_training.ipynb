{
  "cells": [
    {
      "cell_type": "markdown",
      "metadata": {
        "id": "iK6fZUXolwPs"
      },
      "source": [
        "# **1. Informations matériel (GPU)**"
      ]
    },
    {
      "cell_type": "code",
      "execution_count": null,
      "metadata": {
        "colab": {
          "base_uri": "https://localhost:8080/"
        },
        "id": "_UEjh8Rulquq",
        "outputId": "0722a331-ce95-407b-c824-5313817e1d8a",
        "scrolled": false
      },
      "outputs": [
        {
          "output_type": "stream",
          "name": "stdout",
          "text": [
            "Sat Mar 26 09:59:53 2022       \n",
            "+-----------------------------------------------------------------------------+\n",
            "| NVIDIA-SMI 460.32.03    Driver Version: 460.32.03    CUDA Version: 11.2     |\n",
            "|-------------------------------+----------------------+----------------------+\n",
            "| GPU  Name        Persistence-M| Bus-Id        Disp.A | Volatile Uncorr. ECC |\n",
            "| Fan  Temp  Perf  Pwr:Usage/Cap|         Memory-Usage | GPU-Util  Compute M. |\n",
            "|                               |                      |               MIG M. |\n",
            "|===============================+======================+======================|\n",
            "|   0  Tesla K80           Off  | 00000000:00:04.0 Off |                    0 |\n",
            "| N/A   72C    P8    34W / 149W |      0MiB / 11441MiB |      0%      Default |\n",
            "|                               |                      |                  N/A |\n",
            "+-------------------------------+----------------------+----------------------+\n",
            "                                                                               \n",
            "+-----------------------------------------------------------------------------+\n",
            "| Processes:                                                                  |\n",
            "|  GPU   GI   CI        PID   Type   Process name                  GPU Memory |\n",
            "|        ID   ID                                                   Usage      |\n",
            "|=============================================================================|\n",
            "|  No running processes found                                                 |\n",
            "+-----------------------------------------------------------------------------+\n"
          ]
        }
      ],
      "source": [
        "!nvidia-smi"
      ]
    },
    {
      "cell_type": "markdown",
      "metadata": {
        "id": "QrtS3fRhb5x6"
      },
      "source": [
        "# **2. Importation des librairies**"
      ]
    },
    {
      "cell_type": "code",
      "execution_count": null,
      "metadata": {
        "colab": {
          "base_uri": "https://localhost:8080/"
        },
        "id": "MS3XuLGyb5x_",
        "outputId": "470a7b2e-47d9-4a4b-e8fa-70a0478c4869"
      },
      "outputs": [
        {
          "output_type": "stream",
          "name": "stdout",
          "text": [
            "Tensorflow version: 2.8.0\n",
            "Keras version: 2.8.0\n"
          ]
        }
      ],
      "source": [
        "from IPython.display import Image, HTML, display\n",
        "from matplotlib import pyplot as plt\n",
        "import numpy as np\n",
        "import os\n",
        "import cv2 \n",
        "import os\n",
        "import csv\n",
        "import tensorflow as tf\n",
        "from tensorflow import keras\n",
        "from keras.preprocessing import image\n",
        "from keras.models import Model, load_model\n",
        "from keras import backend as K\n",
        "from keras.applications.vgg16 import VGG16, preprocess_input #224*224\n",
        "from keras.applications.xception import Xception, preprocess_input, decode_predictions #299*299\n",
        "from keras.preprocessing.image import ImageDataGenerator\n",
        "from keras.losses import categorical_crossentropy\n",
        "from keras.layers import Dense, GlobalAveragePooling2D, Activation, Flatten\n",
        "from keras.callbacks import ModelCheckpoint, EarlyStopping\n",
        "from tensorflow.keras.optimizers import Adam, SGD\n",
        "from tensorflow.keras.utils import to_categorical\n",
        "import math\n",
        "import argparse\n",
        "import matplotlib\n",
        "import imghdr\n",
        "import pickle as pkl\n",
        "import datetime\n",
        "from cycler import cycler\n",
        "from PIL import Image, ImageEnhance\n",
        "print(\"Tensorflow version: \"+tf.__version__)\n",
        "print(\"Keras version: \" + tf.keras.__version__)\n",
        "      \n",
        "os.environ['TF_CPP_MIN_LOG_LEVEL'] = '3'"
      ]
    },
    {
      "cell_type": "markdown",
      "metadata": {
        "id": "f6HqNeyYKraU"
      },
      "source": [
        "#**3. Téléchargement des données d'entrainement \"Small Dataset\"**"
      ]
    },
    {
      "cell_type": "code",
      "execution_count": null,
      "metadata": {
        "colab": {
          "base_uri": "https://localhost:8080/"
        },
        "id": "9zdwkyRtmnN-",
        "outputId": "d4599dca-b938-4581-85ae-cd3235a3916c"
      },
      "outputs": [
        {
          "name": "stdout",
          "output_type": "stream",
          "text": [
            "--2021-11-22 20:08:10--  http://139.162.138.92/big.tar\n",
            "Connecting to 139.162.138.92:80... connected.\n",
            "HTTP request sent, awaiting response... 206 Partial Content\n",
            "Length: 4149324288 (3.9G), 4149312028 (3.9G) remaining [application/octet-stream]\n",
            "Saving to: ‘big.tar’\n",
            "\n",
            "big.tar               0%[                    ]   6.29M   949KB/s    eta 1h 50m ^C\n"
          ]
        }
      ],
      "source": [
        "! wget -c http://139.162.138.92/big.tar"
      ]
    },
    {
      "cell_type": "code",
      "execution_count": null,
      "metadata": {
        "id": "4X8SEAZMkWem",
        "outputId": "90b5a635-b3a1-4b16-a870-407107d4309b"
      },
      "outputs": [
        {
          "name": "stdout",
          "output_type": "stream",
          "text": [
            "mkdir: cannot create directory ‘bases’: File exists\n",
            "tar: This does not look like a tar archive\n",
            "tar: Skipping to next header\n",
            "tar: Exiting with failure status due to previous errors\n"
          ]
        }
      ],
      "source": [
        "! mkdir bases\n",
        "! tar xf big.tar -C 'bases' --one-top-level"
      ]
    },
    {
      "cell_type": "code",
      "execution_count": null,
      "metadata": {
        "id": "R9Mz5Kr_geAo",
        "outputId": "dbbc11b9-273f-4ca7-cb2f-9896de0447d8"
      },
      "outputs": [
        {
          "ename": "NameError",
          "evalue": "name 'model' is not defined",
          "output_type": "error",
          "traceback": [
            "\u001b[0;31m---------------------------------------------------------------------------\u001b[0m",
            "\u001b[0;31mNameError\u001b[0m                                 Traceback (most recent call last)",
            "\u001b[0;32m/tmp/ipykernel_3720/3585258333.py\u001b[0m in \u001b[0;36m<module>\u001b[0;34m\u001b[0m\n\u001b[0;32m----> 1\u001b[0;31m \u001b[0;32mdel\u001b[0m \u001b[0mmodel\u001b[0m\u001b[0;34m\u001b[0m\u001b[0m\n\u001b[0m\u001b[1;32m      2\u001b[0m \u001b[0;32mdel\u001b[0m \u001b[0mtrain_ds\u001b[0m\u001b[0;34m\u001b[0m\u001b[0m\n\u001b[1;32m      3\u001b[0m \u001b[0;32mdel\u001b[0m \u001b[0mval_ds\u001b[0m\u001b[0;34m\u001b[0m\u001b[0m\n",
            "\u001b[0;31mNameError\u001b[0m: name 'model' is not defined"
          ]
        }
      ],
      "source": [
        "del model\n",
        "del train_ds\n",
        "del val_ds"
      ]
    },
    {
      "cell_type": "code",
      "execution_count": null,
      "metadata": {
        "id": "SbC2udxJgeAo",
        "outputId": "2cb4932e-4129-4d7a-97b5-2071088e6bab"
      },
      "outputs": [
        {
          "data": {
            "text/plain": [
              "0"
            ]
          },
          "execution_count": 6,
          "metadata": {},
          "output_type": "execute_result"
        }
      ],
      "source": [
        "import gc\n",
        "gc.collect()"
      ]
    },
    {
      "cell_type": "markdown",
      "metadata": {
        "id": "P_-BpaZnLDmn"
      },
      "source": [
        "#**4. Création du fichier de labels \"classes.txt\"**"
      ]
    },
    {
      "cell_type": "code",
      "execution_count": null,
      "metadata": {
        "id": "70eR5xy2nNZP"
      },
      "outputs": [],
      "source": [
        "!printf '%s\\n' 'fire' 'no_fire' 'start_fire'> classes.txt\n",
        "classes = ['fire', 'no_fire', 'start_fire']\n",
        "num_classes = len(classes)\n",
        "dataset_path = \"./bases/big\"\n",
        "\n",
        "# NASNetLarge : 331\n",
        "# Xception : 299\n",
        "# Else : 224\n",
        "\n",
        "input_dim = 224\n",
        "batch_size = 8"
      ]
    },
    {
      "cell_type": "markdown",
      "metadata": {
        "id": "NTyWV0pQb5zD"
      },
      "source": [
        "# **8. Création du jeu de données d'entraînement**"
      ]
    },
    {
      "cell_type": "code",
      "execution_count": null,
      "metadata": {
        "id": "UoWLjGra8Ls9"
      },
      "outputs": [],
      "source": [
        "train_ds = tf.keras.preprocessing.image_dataset_from_directory(\n",
        "\tdataset_path,               # chemin vers le jeu de données\n",
        "\tvalidation_split=0.20,    # paritionnement du jeu de données en un jeu de validation (20%), train (80%)\n",
        "\tsubset=\"training\",          # Sélection du jeu de données d'entraînement\n",
        "\tseed=42,                    # Initialisation du générateur aléatoire (permutations)\n",
        "\timage_size=(input_dim,input_dim),       # Taille des images d'entrée\n",
        "\tbatch_size=batch_size,  # Taille du mini-batch\n",
        "  label_mode= 'categorical'  # Conversion au format One-Hot\n",
        ")"
      ]
    },
    {
      "cell_type": "markdown",
      "metadata": {
        "id": "ji2AfPd88PC-"
      },
      "source": [
        "#**9. Création du jeu de validation (A COMPLETER : même générateur, On-Hot, jeu \"validation\")**"
      ]
    },
    {
      "cell_type": "code",
      "execution_count": null,
      "metadata": {
        "colab": {
          "base_uri": "https://localhost:8080/"
        },
        "id": "7Oruux4rRyDv",
        "outputId": "61600138-d3c3-4efe-9a62-0b5ab39f3a9e"
      },
      "outputs": [
        {
          "name": "stdout",
          "output_type": "stream",
          "text": [
            "Found 6003 files belonging to 3 classes.\n",
            "Using 900 files for validation.\n"
          ]
        }
      ],
      "source": [
        "val_ds = tf.keras.preprocessing.image_dataset_from_directory(\n",
        "\tdataset_path,               \n",
        "\tvalidation_split=0.20,       \n",
        "\tsubset=\"validation\",          \n",
        "\tseed=42,                    \n",
        "\timage_size=(input_dim,input_dim),       \n",
        "\tbatch_size=batch_size,  \n",
        "  label_mode= 'categorical' \n",
        ")"
      ]
    },
    {
      "cell_type": "markdown",
      "metadata": {
        "id": "Wi8oBrIJWa5s"
      },
      "source": [
        "# **10. Téléchargement d'un modèle préentraîné et Transfer Learning**"
      ]
    },
    {
      "cell_type": "code",
      "execution_count": null,
      "metadata": {
        "id": "P8TyJaoXL1nm"
      },
      "outputs": [],
      "source": [
        "# Imports\n",
        "import tensorflow as tf\n",
        "# import tensorflow_datasets as tfds\n",
        "import pandas as pd\n",
        "import matplotlib.pyplot as plt\n",
        "import inspect\n",
        "from tqdm import tqdm\n",
        "import matplotlib.pyplot as plt\n",
        "from tensorflow.keras import layers"
      ]
    },
    {
      "cell_type": "code",
      "execution_count": null,
      "metadata": {
        "id": "IWMyvQcnL5SE",
        "outputId": "97257b53-4be7-4b81-8b53-2fd51f1613e1"
      },
      "outputs": [
        {
          "name": "stdout",
          "output_type": "stream",
          "text": [
            "{'DenseNet121': <function DenseNet121 at 0x7f6d46d136a8>, 'DenseNet169': <function DenseNet169 at 0x7f6d46d13730>, 'DenseNet201': <function DenseNet201 at 0x7f6d46d137b8>, 'EfficientNetB0': <function EfficientNetB0 at 0x7f6d46d13c80>, 'EfficientNetB1': <function EfficientNetB1 at 0x7f6d46d13d08>, 'EfficientNetB2': <function EfficientNetB2 at 0x7f6d46d13d90>, 'EfficientNetB3': <function EfficientNetB3 at 0x7f6d46d13e18>, 'EfficientNetB4': <function EfficientNetB4 at 0x7f6d46d13ea0>, 'EfficientNetB5': <function EfficientNetB5 at 0x7f6d46d13f28>, 'EfficientNetB6': <function EfficientNetB6 at 0x7f6d46ca2048>, 'EfficientNetB7': <function EfficientNetB7 at 0x7f6d46ca20d0>, 'InceptionResNetV2': <function InceptionResNetV2 at 0x7f6d46ca2378>, 'InceptionV3': <function InceptionV3 at 0x7f6d46ca27b8>, 'MobileNet': <function MobileNet at 0x7f6d46ca2bf8>, 'MobileNetV2': <function MobileNetV2 at 0x7f6d46cad048>, 'MobileNetV3Large': <function MobileNetV3Large at 0x7f6d46cad8c8>, 'MobileNetV3Small': <function MobileNetV3Small at 0x7f6d46cad840>, 'NASNetLarge': <function NASNetLarge at 0x7f6d46cbe268>, 'NASNetMobile': <function NASNetMobile at 0x7f6d46cbe1e0>, 'ResNet101': <function ResNet101 at 0x7f6d46cbec80>, 'ResNet101V2': <function ResNet101V2 at 0x7f6d46cca268>, 'ResNet152': <function ResNet152 at 0x7f6d46cbed08>, 'ResNet152V2': <function ResNet152V2 at 0x7f6d46cca2f0>, 'ResNet50': <function ResNet50 at 0x7f6d46cbebf8>, 'ResNet50V2': <function ResNet50V2 at 0x7f6d46cca158>, 'VGG16': <function VGG16 at 0x7f6d46cca598>, 'VGG19': <function VGG19 at 0x7f6d46cca840>, 'Xception': <function Xception at 0x7f6d46ccab70>}\n"
          ]
        }
      ],
      "source": [
        "# List all available models\n",
        "model_dictionary = {m[0]:m[1] for m in inspect.getmembers(tf.keras.applications, inspect.isfunction)}\n",
        "print(model_dictionary)"
      ]
    },
    {
      "cell_type": "code",
      "execution_count": null,
      "metadata": {
        "id": "_iQpa2xCgeAp",
        "outputId": "7703e19b-eee3-4d0f-a130-799a0aa672e0"
      },
      "outputs": [
        {
          "name": "stdout",
          "output_type": "stream",
          "text": [
            "{'model_name': [], 'num_model_params': [], 'validation_loss': [], 'validation_accuracy': []}\n"
          ]
        }
      ],
      "source": [
        "# Loop over each model available in Keras\n",
        "model_benchmarks = {'model_name': [], 'num_model_params': [], 'validation_loss': [], 'validation_accuracy': []}\n",
        "print(model_benchmarks)"
      ]
    },
    {
      "cell_type": "code",
      "execution_count": null,
      "metadata": {
        "id": "ijAlePWGgeAq"
      },
      "outputs": [],
      "source": [
        "# 'Xception'\n",
        "# 'MobileNetV3Large'\n",
        "# 'DenseNet121'\n",
        "# 'EfficientNetB0'\n",
        "# 'EfficientNetB1'\n",
        "# 'EfficientNetB2'\n",
        "# 'VGG16'\n",
        "# 'ResNet152'\n",
        "# 'NASNetLarge'\n",
        "\n",
        "model_name = \"ResNet152\"\n",
        "model = model_dictionary[model_name]\n",
        "\n",
        "pre_trained_model = model(\n",
        "    include_top=False,\n",
        "    weights='imagenet', \n",
        "    pooling='avg', \n",
        "    input_shape=(input_dim, input_dim, 3)\n",
        ")"
      ]
    },
    {
      "cell_type": "code",
      "execution_count": null,
      "metadata": {
        "id": "8vl6BP2bMd4M",
        "scrolled": true
      },
      "outputs": [],
      "source": [
        "import wandb\n",
        "from wandb.keras import WandbCallback\n",
        "from datetime import datetime as dt\n",
        "\n",
        "clf_model = tf.keras.models.Sequential([layers.RandomFlip(\"horizontal\"), layers.RandomRotation(0.1),])\n",
        "clf_model.add(pre_trained_model)\n",
        "clf_model.add(tf.keras.layers.Dense(num_classes, activation='softmax'))\n",
        "clf_model.compile(loss='categorical_crossentropy',optimizer=\"sgd\",metrics=['accuracy'])\n",
        "\n",
        "# callback = tf.keras.callbacks.EarlyStopping(\n",
        "#     monitor='val_loss',\n",
        "#     min_delta=0,\n",
        "#     patience=5,\n",
        "#     verbose=1,\n",
        "#     mode='auto',\n",
        "#     baseline=None,\n",
        "#     restore_best_weights=True\n",
        "# )\n",
        "\n",
        "run = wandb.init(project='fireClassification', name=\"other\")\n",
        "\n",
        "history = clf_model.fit(\n",
        "    train_ds,\n",
        "    epochs=10,\n",
        "    validation_data=val_ds,\n",
        "    steps_per_epoch=len(train_ds),\n",
        "    callbacks = [WandbCallback()]\n",
        ")\n",
        "\n",
        "#save the model\n",
        "results_path = \"./\"\n",
        "clf_model.save(os.path.join(results_path, model_name+\".h5\"))"
      ]
    },
    {
      "cell_type": "code",
      "execution_count": null,
      "metadata": {
        "id": "Mw7e-KXmgeAq"
      },
      "outputs": [],
      "source": [
        "run.finish()"
      ]
    }
  ],
  "metadata": {
    "accelerator": "GPU",
    "colab": {
      "collapsed_sections": [],
      "name": "fireClassification.ipynb",
      "provenance": []
    },
    "kernelspec": {
      "display_name": "Python 3",
      "language": "python",
      "name": "python3"
    },
    "language_info": {
      "codemirror_mode": {
        "name": "ipython",
        "version": 3
      },
      "file_extension": ".py",
      "mimetype": "text/x-python",
      "name": "python",
      "nbconvert_exporter": "python",
      "pygments_lexer": "ipython3",
      "version": "3.7.0b3"
    }
  },
  "nbformat": 4,
  "nbformat_minor": 0
}